{
 "cells": [
  {
   "cell_type": "code",
   "execution_count": 66,
   "id": "847d7508-f67d-4567-9d9f-d5e51ee5167b",
   "metadata": {},
   "outputs": [],
   "source": [
    "import pandas as pd\n",
    "from scipy.stats import expon\n",
    "import matplotlib.pyplot as plt\n",
    "import numpy as np\n",
    "import warnings\n",
    "warnings.filterwarnings('ignore')"
   ]
  },
  {
   "cell_type": "markdown",
   "id": "0f3a0c2d",
   "metadata": {},
   "source": [
    "1. (2 mark) Implement the counting measure in Python. Test that it satisfies additivity on the disjoint sets\n",
    "{\"a\", \"b\", \"c\"}, {\"d\", \"e\", \"f\"}.\n",
    "Hint: If you have never written a Python function, read https://www.w3schools.com/python/python_\n",
    "functions.asp, if you have never used Python sets, read https://www.w3schools.com/python/python_\n",
    "sets.asp.\n",
    "Bonus mark if your implementation of the counting measure checks that the input type is correct and\n",
    "raises an error otherwise"
   ]
  },
  {
   "cell_type": "code",
   "execution_count": 67,
   "id": "b68f2972",
   "metadata": {},
   "outputs": [
    {
     "name": "stdout",
     "output_type": "stream",
     "text": [
      "The counting measure of {\"a\", \"b\", \"c\"} is  3\n",
      "The counting measure of {\"d\", \"e\", \"f\"} is  3\n",
      "The counting measure of both the sets is  6\n"
     ]
    }
   ],
   "source": [
    "setA = {\"a\", \"b\", \"c\"}\n",
    "setB = {\"d\", \"e\", \"f\"}\n",
    "\n",
    "#implementing counting measure\n",
    "def count(setValue):\n",
    "    \n",
    "    if type(setValue) is set:\n",
    "        \n",
    "        total = 0\n",
    "        \n",
    "        for val in setValue:\n",
    "            total += 1\n",
    "            \n",
    "        return total\n",
    "    \n",
    "    else:\n",
    "        print(\"Please enter a set\")\n",
    "    \n",
    "    \n",
    "\n",
    "print(\"The counting measure of {\\\"a\\\", \\\"b\\\", \\\"c\\\"} is \",count(setA))\n",
    "print(\"The counting measure of {\\\"d\\\", \\\"e\\\", \\\"f\\\"} is \",count(setB))\n",
    "print(\"The counting measure of both the sets is \",count(setA.union(setB)))"
   ]
  },
  {
   "cell_type": "markdown",
   "id": "01250ee6",
   "metadata": {},
   "source": [
    "2. (2 marks) Create a Python class which implements intervals. Use this new data type to write a function\n",
    "which implements the length measure on intervals. Test it on the interval [1, 3.5].\n",
    "Hint: If you have never written a Python class, read https://www.w3schools.com/python/python_\n",
    "classes.asp.\n",
    "Bonus mark if your implementation of the length measure checks that the input type is correct and raises\n",
    "an error otherwise."
   ]
  },
  {
   "cell_type": "code",
   "execution_count": 68,
   "id": "ea18f515",
   "metadata": {},
   "outputs": [
    {
     "name": "stdout",
     "output_type": "stream",
     "text": [
      "The length measure for interval [1,3.5] is  2.5\n"
     ]
    }
   ],
   "source": [
    "#class for creating intervals\n",
    "class My_Interval:\n",
    "    \n",
    "    def __init__(self, start, end, closed):\n",
    "        \n",
    "        if (type(start) == int or type(start) == float) and (type(end) == int or type(end) == float) and closed in [\"both\",\"left\",\"right\",\"neither\"]:\n",
    "            self.interval = pd.Interval(left=start, right=end, closed=closed)\n",
    "        else:\n",
    "            print(\"Please enter proper values\")\n",
    "            \n",
    "    # calculates the length measure of an interval\n",
    "    def calculate_length_measure(self):\n",
    "        try:\n",
    "            return self.interval.right - self.interval.left\n",
    "        except:\n",
    "            return \"{value not available due to error}\"\n",
    "\n",
    "interval_1 = My_Interval(1,3.5,'both')\n",
    "print(\"The length measure for interval [1,3.5] is \",interval_1.calculate_length_measure())\n",
    "        "
   ]
  },
  {
   "cell_type": "markdown",
   "id": "a4592915-add9-46da-97f8-cb2cb9ee3371",
   "metadata": {},
   "source": [
    "3. (3 marks) Import scipy.stats in order to access the scipy.stats.expon distribution. This implements the exponential distribution Exp(λ). Make sure you read the documentation https://docs.scipy.org/doc/scipy/reference/generated/scipy.stats.expon.html to understand how it works and how\n",
    "the parameter λ is encoded. Using the cdf method of scipy.stats.expon define a function called\n",
    "expon_measure which will take as input an interval (defined in the previous question) and will return\n",
    "its probability mass under the probability measure Exp (2) (i.e. λ = 2). Test your function by computing\n",
    "the probability measure of the following intervals:\n",
    "(a) [0, 1]\n",
    "(b) [1, 1]\n",
    "(c) [1, 10]\n",
    "(d) [0, ∞)\n",
    "Plot the pdf of Exp (2) on comment on whether your answers seem to make sense visually.\n"
   ]
  },
  {
   "cell_type": "code",
   "execution_count": 69,
   "id": "91c7e99c-e235-4925-9bd3-4355a6e55369",
   "metadata": {},
   "outputs": [
    {
     "name": "stdout",
     "output_type": "stream",
     "text": [
      "The probability mass for [0,1] is  0.8646647167633873\n",
      "The probability mass for [1,1] is  0.0\n",
      "The probability mass for [1,10] is  0.13533528117545912\n",
      "The probability mass for [0,infinity) is  1.0\n"
     ]
    },
    {
     "data": {
      "image/png": "[encoded data removed]",
      "text/plain": [
       "<Figure size 432x288 with 1 Axes>"
      ]
     },
     "metadata": {
      "needs_background": "light"
     },
     "output_type": "display_data"
    }
   ],
   "source": [
    "# calculating expon measure using cdf\n",
    "def expon_measure(interval):\n",
    "    cdf_result = expon.cdf(interval.interval.right, 0, 1/2) - expon.cdf(interval.interval.left, 0, 1/2)\n",
    "    return cdf_result\n",
    "\n",
    "intervalA = My_Interval(0,1,'both')\n",
    "intervalB = My_Interval(1,1,'both')\n",
    "intervalC = My_Interval(1,10,'both')\n",
    "intervalD = My_Interval(0,float('inf'),'left')\n",
    "\n",
    "print(\"The probability mass for [0,1] is \",expon_measure(intervalA))\n",
    "print(\"The probability mass for [1,1] is \",expon_measure(intervalB))\n",
    "print(\"The probability mass for [1,10] is \",expon_measure(intervalC))\n",
    "print(\"The probability mass for [0,infinity) is \",expon_measure(intervalD))\n",
    "\n",
    "#Creating list of values for different intervals and calculating its pdf----\n",
    "interval_values1 = np.linspace(0,1,num=100)\n",
    "x1 = expon.pdf(interval_values1,0,1/2)\n",
    "\n",
    "interval_values2 = np.linspace(1,1,num=100)\n",
    "x2 = expon.pdf(interval_values2,0,1/2)\n",
    "\n",
    "interval_values3 = np.linspace(1,10,num=100)\n",
    "x3 = expon.pdf(interval_values3,0,1/2)\n",
    "\n",
    "interval_values4 = np.linspace(0,float('inf'),num=100)\n",
    "x4 = expon.pdf(interval_values4,0,1/2)\n",
    "\n",
    "# -------\n",
    "\n",
    "# plotting the pdf values of different intervals\n",
    "plt.plot(x1,\"-\", label=\"interval [0,1]\")\n",
    "plt.legend(loc=\"upper right\")\n",
    "\n",
    "plt.plot(x2,\"-\", label=\"interval [1,1]\")\n",
    "plt.legend(loc=\"upper right\")\n",
    "\n",
    "plt.plot(x3,\"-\", label=\"interval [0,10]\")\n",
    "plt.legend(loc=\"upper right\")\n",
    "\n",
    "plt.plot(x4,\"-\", label=\"interval [0,infinity)\")\n",
    "plt.legend(loc=\"upper right\")\n",
    "\n",
    "plt.show()"
   ]
  },
  {
   "cell_type": "markdown",
   "id": "0b50976c-f0b3-487c-a7c8-45eef10dadee",
   "metadata": {},
   "source": [
    "The graph makes sense visually since it shows how the probability is spread out in the interval. For intervals [0,1] and [0,10], we can see the similar curves as the probability density drops as the values get bigger, while intervals [1,1] and [0,infinity) are in straight lines due to the following reasons. Interval [1,1] defines as a point therefore it has the pdf 0 and interval [0,infinity) has the average pdf 1 as it sums up all the probability to 1 and remains as 1."
   ]
  },
  {
   "cell_type": "markdown",
   "id": "c50796b6-fdb8-4e11-96c8-2ad959c53fa9",
   "metadata": {},
   "source": [
    "4. (3 marks) Using the pdf method of scipy.stats.expon, define a function called expon_pdf which will\n",
    "take one argument x and return the pdf of the probability measure Exp (2) evaluated at x. Import\n",
    "the integration routine quad from scipy.integrate, and read the documentation https://docs.scipy.\n",
    "org/doc/scipy/reference/generated/scipy.integrate.quad.html to see how it works. Use quad to\n",
    "compute and print the following integrals\n",
    "(a) R 1\n",
    "0\n",
    "expon_pdf(x) dx\n",
    "(b) R 1\n",
    "1\n",
    "expon_pdf(x) dx\n",
    "(c) R 10\n",
    "1\n",
    "expon_pdf(x) dx\n",
    "(d) R ∞\n",
    "0\n",
    "expon_pdf(x) dx\n",
    "Compare your answers with those of the previous question. What do you see? Why is this the case?"
   ]
  },
  {
   "cell_type": "code",
   "execution_count": 70,
   "id": "de66b483-9866-4a70-892c-471bdc41ad96",
   "metadata": {},
   "outputs": [
    {
     "name": "stdout",
     "output_type": "stream",
     "text": [
      "a)  0.8646647167633872\n",
      "b)  0.0\n",
      "c)  0.13533528117545912\n",
      "d)  1.0\n"
     ]
    }
   ],
   "source": [
    "from scipy import integrate \n",
    "\n",
    "# a function that calculates the pdf of a given value\n",
    "expon_pdf = lambda x:expon.pdf([x],0,1/2)\n",
    "\n",
    "#calculates the intergration of the expon_pdf function with intervals\n",
    "def intergrate_func(lower_limit,upper_limit,function):\n",
    "    res = integrate.quad(function,lower_limit,upper_limit)\n",
    "    return res[0]\n",
    "\n",
    "print(\"a) \",intergrate_func(0,1,expon_pdf))\n",
    "print(\"b) \",intergrate_func(1,1,expon_pdf))\n",
    "print(\"c) \",intergrate_func(1,10,expon_pdf))\n",
    "print(\"d) \",intergrate_func(0,float('inf'),expon_pdf))"
   ]
  },
  {
   "cell_type": "markdown",
   "id": "c1df1f43-0d10-4691-baed-9ad4f0dee566",
   "metadata": {},
   "source": [
    "The values are same to question 3 since both of them calculate the cdf in a different manner for the same distribution and intervals. The question 3 calculates the cdf directly by getting the difference of the cdf of the upper bound and lower bound of the interval respectively, while question 4 calculates the cdf by integrating the interval of the distribution.\""
   ]
  },
  {
   "cell_type": "code",
   "execution_count": null,
   "id": "419f3f22-3a71-484b-b445-164ed068f72b",
   "metadata": {},
   "outputs": [],
   "source": []
  }
 ],
 "metadata": {
  "kernelspec": {
   "display_name": "Python 3 (ipykernel)",
   "language": "python",
   "name": "python3"
  },
  "language_info": {
   "codemirror_mode": {
    "name": "ipython",
    "version": 3
   },
   "file_extension": ".py",
   "mimetype": "text/x-python",
   "name": "python",
   "nbconvert_exporter": "python",
   "pygments_lexer": "ipython3",
   "version": "3.9.7"
  }
 },
 "nbformat": 4,
 "nbformat_minor": 5
}
